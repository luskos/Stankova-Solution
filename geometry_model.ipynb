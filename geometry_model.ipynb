# geometry_model.ipynb (може да бъде импортирано или отворено в Jupyter)

import numpy as np
import matplotlib.pyplot as plt
from scipy.integrate import solve_ivp
import sympy as sp

# ==============================
# 1. Дефиниция на геометрията
# ==============================
def yin_yang_surface(x, y, A=1.0):
    return A * x * y / (1 + x**2 + y**2)

# ==============================
# 2. Символично: метрика
# ==============================
x, y = sp.symbols('x y')
A = sp.symbols('A')
Z = A * x * y / (1 + x**2 + y**2)

dZdx = sp.diff(Z, x)
dZdy = sp.diff(Z, y)

# Индуцирана метрика от 3D повърхнина
gxx = 1 + dZdx**2
gyy = 1 + dZdy**2
gxy = dZdx * dZdy
g_metric = sp.Matrix([[gxx, gxy], [gxy, gyy]])

# ==============================
# 3. Христофелови символи (по избор)
# ==============================
def christoffel_symbols(g, coords):
    n = len(coords)
    g_inv = g.inv()
    Gamma = [[[0 for _ in range(n)] for _ in range(n)] for _ in range(n)]

    for i in range(n):
        for j in range(n):
            for k in range(n):
                Gamma[i][j][k] = sum(
                    g_inv[i, l] * (sp.diff(g[l, j], coords[k]) + sp.diff(g[l, k], coords[j]) - sp.diff(g[j, k], coords[l]))
                    for l in range(n)
                ) / 2
                Gamma[i][j][k] = sp.simplify(Gamma[i][j][k])
    return Gamma

coords = [x, y]
Gamma = christoffel_symbols(g_metric, coords)

# ==============================
# 4. Геодезични уравнения (числено)
# ==============================
def geodesic_rhs(t, state, A_val):
    x_val, y_val, dxdt, dydt = state
    denom = (1 + x_val**2 + y_val**2)**2
    dZdx_val = A_val * y_val * (1 - x_val**2 + y_val**2) / denom
    dZdy_val = A_val * x_val * (1 + x_val**2 - y_val**2) / denom

    # Приблизени компоненти на ускорение
    ddxdt = -dZdx_val * dxdt**2 - dZdy_val * dxdt * dydt
    ddydt = -dZdy_val * dydt**2 - dZdx_val * dxdt * dydt

    return [dxdt, dydt, ddxdt, ddydt]

# ==============================
# 5. Симулация на траектории
# ==============================
trajectories = []
angles = np.linspace(0, 2 * np.pi, 12, endpoint=False)
t_span = (0, 20)
t_eval = np.linspace(*t_span, 1000)

for theta in angles:
    x0 = 1.5 * np.cos(theta)
    y0 = 1.5 * np.sin(theta)
    dx0 = -0.2 * np.sin(theta)
    dy0 = 0.2 * np.cos(theta)
    state0 = [x0, y0, dx0, dy0]
    sol = solve_ivp(geodesic_rhs, t_span, state0, args=(1.0,), t_eval=t_eval)
    trajectories.append((sol.y[0], sol.y[1]))

# ==============================
# 6. Визуализация
# ==============================
plt.figure(figsize=(8, 8))
for x_vals, y_vals in trajectories:
    plt.plot(x_vals, y_vals, alpha=0.7)
plt.title("Geodesic trajectories on adapted Yin-Yang geometry")
plt.xlabel("x")
plt.ylabel("y")
plt.grid(True)
plt.axis("equal")
plt.show()
